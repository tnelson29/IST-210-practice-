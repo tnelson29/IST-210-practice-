{
  "nbformat": 4,
  "nbformat_minor": 0,
  "metadata": {
    "colab": {
      "name": "Practice.ipynb",
      "provenance": [],
      "collapsed_sections": [],
      "authorship_tag": "ABX9TyOpt+jxR/u+kTjLX/lMai4R",
      "include_colab_link": true
    },
    "kernelspec": {
      "name": "python3",
      "display_name": "Python 3"
    }
  },
  "cells": [
    {
      "cell_type": "markdown",
      "metadata": {
        "id": "view-in-github",
        "colab_type": "text"
      },
      "source": [
        "<a href=\"https://colab.research.google.com/github/tnelson29/IST-210-practice-/blob/master/Practice.ipynb\" target=\"_parent\"><img src=\"https://colab.research.google.com/assets/colab-badge.svg\" alt=\"Open In Colab\"/></a>"
      ]
    },
    {
      "cell_type": "code",
      "metadata": {
        "id": "G4MeKQFjiaz0",
        "colab_type": "code",
        "colab": {}
      },
      "source": [
        ""
      ],
      "execution_count": null,
      "outputs": []
    },
    {
      "cell_type": "markdown",
      "metadata": {
        "id": "vu8SK37ydjYu",
        "colab_type": "text"
      },
      "source": [
        "# this is a heding "
      ]
    },
    {
      "cell_type": "markdown",
      "metadata": {
        "id": "ozotq-pEdmdZ",
        "colab_type": "text"
      },
      "source": [
        "## this is a sub-heading "
      ]
    },
    {
      "cell_type": "markdown",
      "metadata": {
        "id": "YKBhDk1Pcs90",
        "colab_type": "text"
      },
      "source": [
        "this is for practice"
      ]
    },
    {
      "cell_type": "code",
      "metadata": {
        "id": "ObNQDg1neXk7",
        "colab_type": "code",
        "colab": {
          "base_uri": "https://localhost:8080/",
          "height": 34
        },
        "outputId": "3d54b009-bdba-480d-b3fa-2783df45f871"
      },
      "source": [
        "157*8/7+369"
      ],
      "execution_count": null,
      "outputs": [
        {
          "output_type": "execute_result",
          "data": {
            "text/plain": [
              "548.4285714285714"
            ]
          },
          "metadata": {
            "tags": []
          },
          "execution_count": 1
        }
      ]
    },
    {
      "cell_type": "markdown",
      "metadata": {
        "id": "w11eKOAWiY12",
        "colab_type": "text"
      },
      "source": [
        "![Car]\n"
      ]
    }
  ]
}