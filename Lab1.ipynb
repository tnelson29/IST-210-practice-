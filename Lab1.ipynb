{
  "nbformat": 4,
  "nbformat_minor": 0,
  "metadata": {
    "colab": {
      "name": "Lab1.ipynb",
      "provenance": [],
      "authorship_tag": "ABX9TyOLqsGIcTUcfj87By5BJ1+Z",
      "include_colab_link": true
    },
    "kernelspec": {
      "name": "python3",
      "display_name": "Python 3"
    }
  },
  "cells": [
    {
      "cell_type": "markdown",
      "metadata": {
        "id": "view-in-github",
        "colab_type": "text"
      },
      "source": [
        "<a href=\"https://colab.research.google.com/github/tnelson29/IST-210-practice-/blob/master/Lab1.ipynb\" target=\"_parent\"><img src=\"https://colab.research.google.com/assets/colab-badge.svg\" alt=\"Open In Colab\"/></a>"
      ]
    },
    {
      "cell_type": "markdown",
      "metadata": {
        "id": "nmUEYlAycLft",
        "colab_type": "text"
      },
      "source": [
        "### Do you like Jupyter Notebooks?"
      ]
    },
    {
      "cell_type": "markdown",
      "metadata": {
        "id": "hWz7pmK2c6I9",
        "colab_type": "text"
      },
      "source": [
        "I am new to Jupyter notebooks and it is going to take some getting used to. I hope to get weel versed with it and become very proficient soon but for now I feel challenged. "
      ]
    },
    {
      "cell_type": "markdown",
      "metadata": {
        "id": "L1N-kKUbdLCA",
        "colab_type": "text"
      },
      "source": [
        "### What do you want to learn more about in Jupyter Notebooks? "
      ]
    },
    {
      "cell_type": "markdown",
      "metadata": {
        "id": "KkWn23rJdTU2",
        "colab_type": "text"
      },
      "source": [
        "I hope to learn more about python and datamanagment. As a new SRA major I just hope to become very proficient with all IST 210 throws at me. "
      ]
    },
    {
      "cell_type": "markdown",
      "metadata": {
        "id": "KOyIria2dl_g",
        "colab_type": "text"
      },
      "source": [
        "![Red Mclaren](https://raw.githubusercontent.com/tnelson29/IST-210-practice-/master/imagees/Screen%20Shot%202020-09-03%20at%203.21.27%20PM.png)"
      ]
    }
  ]
}