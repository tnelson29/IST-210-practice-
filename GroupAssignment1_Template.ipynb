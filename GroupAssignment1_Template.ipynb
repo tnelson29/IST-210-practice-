{
  "nbformat": 4,
  "nbformat_minor": 0,
  "metadata": {
    "colab": {
      "name": " GroupAssignment1-Template.ipynb",
      "provenance": [],
      "include_colab_link": true
    },
    "kernelspec": {
      "name": "python3",
      "display_name": "Python 3"
    }
  },
  "cells": [
    {
      "cell_type": "markdown",
      "metadata": {
        "id": "view-in-github",
        "colab_type": "text"
      },
      "source": [
        "<a href=\"https://colab.research.google.com/github/tnelson29/IST-210-practice-/blob/master/GroupAssignment1_Template.ipynb\" target=\"_parent\"><img src=\"https://colab.research.google.com/assets/colab-badge.svg\" alt=\"Open In Colab\"/></a>"
      ]
    },
    {
      "cell_type": "markdown",
      "metadata": {
        "id": "UblhAIGuGF27",
        "colab_type": "text"
      },
      "source": [
        "# Amazon data study"
      ]
    },
    {
      "cell_type": "markdown",
      "metadata": {
        "id": "RlR0_Ol4GW3b",
        "colab_type": "text"
      },
      "source": [
        "### what is your idea?"
      ]
    },
    {
      "cell_type": "markdown",
      "metadata": {
        "id": "HU68Zv5MGY97",
        "colab_type": "text"
      },
      "source": [
        "-- To analyze how Amazon provides multiple ways to make everyday life easier. We want to look into how online shopping and household items run through same company appeal to so many people. "
      ]
    },
    {
      "cell_type": "markdown",
      "metadata": {
        "id": "45Q0PBrIGiIg",
        "colab_type": "text"
      },
      "source": [
        "### what makes it unique?"
      ]
    },
    {
      "cell_type": "markdown",
      "metadata": {
        "id": "8WOfTAuqGjoc",
        "colab_type": "text"
      },
      "source": [
        "-- The company we are looking at has expanded outside of its original market to appeal to consumers. From household items, streaming services, and subscriptions the company still grows at a rapid pace."
      ]
    },
    {
      "cell_type": "markdown",
      "metadata": {
        "id": "dVrktWdXGl19",
        "colab_type": "text"
      },
      "source": [
        "### is this a brand-new product or business, or are you borrowing from another business?"
      ]
    },
    {
      "cell_type": "markdown",
      "metadata": {
        "id": "MmGY0leUGnaN",
        "colab_type": "text"
      },
      "source": [
        "-- Amazon is a well established Brand and buisness. Started as an online shopping company thye have now extended way past their original market of online shopping. "
      ]
    },
    {
      "cell_type": "markdown",
      "metadata": {
        "id": "k3oJzVDPGnws",
        "colab_type": "text"
      },
      "source": [
        "### describe a typical business interaction or a day at your business."
      ]
    },
    {
      "cell_type": "markdown",
      "metadata": {
        "id": "GeEKl-lUG1x5",
        "colab_type": "text"
      },
      "source": [
        "-- When someone places an order on the website it is sent in to the distributor of the product first. Once the product has been ordered it will be shipped to an amazon package handling complex. The package will then be prepared to ship to the next closest amazon center or the cloesest package handler to the address. Then either an Amazon delivery truck will deliver the package or a trusted package comapny like UPS or FedEx wiill deliver the package.  "
      ]
    },
    {
      "cell_type": "markdown",
      "metadata": {
        "id": "W9WmeiTdo-FW",
        "colab_type": "text"
      },
      "source": [
        ""
      ]
    },
    {
      "cell_type": "markdown",
      "metadata": {
        "id": "iUFoC5BuGpID",
        "colab_type": "text"
      },
      "source": [
        "### list your 5 entities/tables and for each, provide details about what data will be stored in the entities/tables."
      ]
    },
    {
      "cell_type": "markdown",
      "metadata": {
        "id": "AiZXrfSMGqZm",
        "colab_type": "text"
      },
      "source": [
        "1. Online shopping \n",
        "\n",
        "-- Shopping history (Clicks), search history, purchase history, all things that the user has intrest in while surfing through amazon so Amazon can conform their adds around the users shopping prefernces. \n",
        "\n",
        "2. Amazon Alexa \n",
        "\n",
        "-- Records any mentions about possible wants or needs for shopping, user ID, and any thing asked to Alexa. \n",
        "\n",
        "3. Amazon TV (fire stick, prime video, etc. )\n",
        "\n",
        "-- Collect data about preferences of a users watching habits.\n",
        "\n",
        "4. Amazon Prime subscription\n",
        "\n",
        "-- Amazon prime subscription will collect more data about the user as well as remember the Users shopping habits and what they look for. \n",
        "\n",
        "5. Amazon Music\n",
        "\n",
        "-- From podcast to music prefernce this data will be stored."
      ]
    },
    {
      "cell_type": "markdown",
      "metadata": {
        "id": "h2mJWTewHLSn",
        "colab_type": "text"
      },
      "source": [
        "Draw IO Entity Relationship Diagram \n",
        "\n",
        "- save your ER Diagram in Draw.io as PNG and upload it to GitHub\n",
        "\n",
        "  - then add an image to your notebook\n",
        "\n",
        "![Our diagram](https://raw.githubusercontent.com/shaneod24/Practice/master/Images/Untitled%20Diagram.png)\n",
        "\n"
      ]
    },
    {
      "cell_type": "markdown",
      "metadata": {
        "id": "WFQXwieoHiCe",
        "colab_type": "text"
      },
      "source": [
        "### provide a goal for your project "
      ]
    },
    {
      "cell_type": "markdown",
      "metadata": {
        "id": "cKmoiVHrHnHF",
        "colab_type": "text"
      },
      "source": [
        "-- We want to look at how Amazon collects such vast amount of data from their users. With Amazon being so diverse with many different services provided our goal is to understand how the collection of data through all these services helps them create a successful company. "
      ]
    }
  ]
}