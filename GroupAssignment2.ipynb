{
  "nbformat": 4,
  "nbformat_minor": 0,
  "metadata": {
    "colab": {
      "name": "GroupAssignment2.ipynb",
      "provenance": [],
      "authorship_tag": "ABX9TyPuUhP8PAVVIjEXUGzlehzw",
      "include_colab_link": true
    },
    "kernelspec": {
      "name": "python3",
      "display_name": "Python 3"
    }
  },
  "cells": [
    {
      "cell_type": "markdown",
      "metadata": {
        "id": "view-in-github",
        "colab_type": "text"
      },
      "source": [
        "<a href=\"https://colab.research.google.com/github/tnelson29/IST-210-practice-/blob/master/GroupAssignment2.ipynb\" target=\"_parent\"><img src=\"https://colab.research.google.com/assets/colab-badge.svg\" alt=\"Open In Colab\"/></a>"
      ]
    },
    {
      "cell_type": "markdown",
      "metadata": {
        "id": "i1R1ImBuIiTs"
      },
      "source": [
        "![ER diagram](https://raw.githubusercontent.com/tnelson29/IST-210-practice-/master/imagees/IST210groupproject.png)"
      ]
    },
    {
      "cell_type": "markdown",
      "metadata": {
        "id": "4qmMswfjIs-S"
      },
      "source": [
        "Our project is breaking down the relationship between an amazon user and how Amazon acts as a third party supplier to these people. Amazon has a diverse connection from a product found on their website when it actually ends up coming from a company. Now this may be to help smaller name brands have a place to go to join their target market. This has been a great success and Amazon has made a very intrecact system for users and suppliers to get in touch with each other to feed the supply and demand market. From the Amazon website we have the users accountID and the purchaseID and these lead us to more information about both Primary keys. Account disects more into personal information about the user for things such as delivery. PurchaseID continues to break into transaction ID whihc gives us details about what was bought in that transaction. Within transaction we have foriegn keys like item which gives us more detail about the specific item being purchased. Finally as stated earlier with Amazon being a third party supplier we have the original supplier or producer who will supply amazon with the item for the user. Thats how our ER diagram breaksdown the Amazon Ecommerce section they offer in their company. "
      ]
    }
  ]
}