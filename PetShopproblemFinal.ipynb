{
  "nbformat": 4,
  "nbformat_minor": 0,
  "metadata": {
    "colab": {
      "name": "PetShop.ipynb",
      "provenance": [],
      "authorship_tag": "ABX9TyPKA0tiQr9zsPK3U8xS1cdB",
      "include_colab_link": true
    },
    "kernelspec": {
      "name": "python3",
      "display_name": "Python 3"
    }
  },
  "cells": [
    {
      "cell_type": "markdown",
      "metadata": {
        "id": "view-in-github",
        "colab_type": "text"
      },
      "source": [
        "<a href=\"https://colab.research.google.com/github/tnelson29/IST-210-practice-/blob/master/PetShopproblemFinal.ipynb\" target=\"_parent\"><img src=\"https://colab.research.google.com/assets/colab-badge.svg\" alt=\"Open In Colab\"/></a>"
      ]
    },
    {
      "cell_type": "markdown",
      "metadata": {
        "id": "V3YcwAMQNjIf"
      },
      "source": [
        "![ER diagram](https://github.com/tnelson29/IST-210-practice-/blob/master/imagees/Pet%20shop%20problem%20.png) "
      ]
    },
    {
      "cell_type": "markdown",
      "metadata": {
        "id": "n26wj-5PWpGJ"
      },
      "source": [
        "My pet shop ER diagram addresses the connections between the works of the pet shop between feeding and sheltering the animals. It also shows the purchase transaction possible between customers. Each entity has good attributes detailing each entity. This diagram shows great demonstartions between how all the entities work and tie together and shows a good fluid process of how this pet shop works. "
      ]
    }
  ]
}